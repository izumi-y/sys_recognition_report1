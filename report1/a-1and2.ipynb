{
 "cells": [
  {
   "cell_type": "code",
   "execution_count": 1,
   "metadata": {},
   "outputs": [],
   "source": [
    "import math\n",
    "import numpy as np"
   ]
  },
  {
   "cell_type": "code",
   "execution_count": 2,
   "metadata": {},
   "outputs": [],
   "source": [
    "class Fc:\n",
    "  def __init__(self, n_in, n_out, relu=True, seed=0):\n",
    "    self.n_in=n_in\n",
    "    self.n_out=n_out\n",
    "    self.relu=relu\n",
    "    # w,b は全結合層の学習パラメータ．\n",
    "    # ReLuも全結合の中にいれてある．\n",
    "    # ReLU=Trueのときは，Heの初期値．Falseのときは，Xavierの初期値とする．\n",
    "    # xは直前のforward計算時の入力値．BPの計算時に必要．\n",
    "    np.random.seed(seed) # 同じ初期値を再現できるように seed を指定します．\n",
    "    if relu:\n",
    "      self.w=np.random.normal(0, math.sqrt(2.0/n_in), (n_out, n_in)) # Heの初期値\n",
    "      self.relu0=None # ReLUの順伝搬時に０以下で値が伝搬されない要素のインデックスを記録．BP時に利用．\n",
    "    else:\n",
    "      self.w=np.random.normal(0, math.sqrt(1.0/n_in), (n_out, n_in)) # Xavierの初期値   \n",
    "    self.b=np.zeros((n_out,1))\n",
    "    self.x=np.zeros((n_in,1))\n",
    "    #　誤差逆伝搬(Back-Propagation時の勾配を記録する変数)\n",
    "    self.dEdx=np.zeros((n_in,1)) # dE/dx を表す　BPの時に直前レイヤに伝わる勾配でδと表現されます．\n",
    "    self.dEdw=np.zeros((n_out,n_in)) # dE/dw を表す\n",
    "    self.dEdb=np.zeros((n_out,1)) # dE/db を表す\n",
    "    self.count=0\n",
    "    # 以下，MomentamSDGのための設定\n",
    "    self.mdw=np.zeros((n_out,n_in))\n",
    "    self.mdb=np.zeros((n_out,1))\n",
    "\n",
    "# forward は __call__ を使って定義する．単純な 行列＊ベクトル＋ベクトル　の計算．\n",
    "  def __call__(self,x): \n",
    "    self.x = x\n",
    "    self.y = np.dot(self.w, x) + self.b\n",
    "    # ReLUは，値が０以下の要素は，０とする．０とした要素のインデックスは relu0に記録し，BP時に勾配を伝搬させない．\n",
    "    if self.relu:\n",
    "        self.relu0= self.y<=0\n",
    "        self.y[self.relu0]=0\n",
    "    return self.y\n",
    "\n",
    "# backward は，dE/dy を受け取って，dE/dx を出力．内部では，dE/dw, dE/db を更新\n",
    "  def backward(self, dEdy):\n",
    "    # 順伝搬時に値が０以下だった要素は勾配を０として，勾配伝搬しない．\n",
    "    if self.relu:\n",
    "        dEdy[self.relu0]=0\n",
    "    dydx = np.transpose(self.w)  # dWx/dx= np.transpose(W) であることより．\n",
    "    dydw = np.transpose(self.x)  # dWx/dW= np.transpose(x) \n",
    "    # dydb = np.ones((self.n_out,1))   #  db/db = np.ones((n_out,1))　１なので特に計算しない．\n",
    "    # dEdw, dEdb に勾配を加算．dEdx (δ)は前層へ伝搬する勾配で，backwardの返り値とする．\n",
    "    self.dEdx = np.dot(dydx, dEdy)\n",
    "    self.dEdw += np.dot(dEdy, dydw)\n",
    "    self.dEdb += dEdy\n",
    "    self.count +=1  # 勾配の平均を取るために，足した勾配のサンプル数を記録．\n",
    "    return self.dEdx\n",
    "\n",
    "# 勾配をクリア\n",
    "  def clear_grad(self):\n",
    "      self.dEdw=0\n",
    "      self.dEdb=0\n",
    "      self.count=0\n",
    "\n",
    "# 勾配法で重みをアップデート．countで割って，足しこんだ勾配のサンプル数で平均を取る\n",
    "  def update(self, lr=0.001):\n",
    "      self.w -= self.dEdw/self.count * lr\n",
    "      self.b -= self.dEdb/self.count * lr\n",
    "      self.clear_grad()\n",
    "    \n",
    "# 慣性項（モーメンタム項）付きの勾配法\n",
    "  def updatem(self, lr=0.001, mu=0.9):\n",
    "      #self.mdw = {自分で実装せよ．}\n",
    "      #self.mdb = {自分で実装せよ．} \n",
    "      self.w += self.mdw\n",
    "      self.b += self.mdb\n",
    "      self.clear_grad()"
   ]
  },
  {
   "cell_type": "code",
   "execution_count": 3,
   "metadata": {},
   "outputs": [],
   "source": [
    "fc1=Fc(1,20)\n",
    "fc2=Fc(20,20)\n",
    "fc3=Fc(20,1,False)"
   ]
  },
  {
   "cell_type": "code",
   "execution_count": 4,
   "metadata": {},
   "outputs": [],
   "source": [
    "#def f(x):\n",
    "#    return 0.5*(x-2)**2-5\n",
    "\n",
    "#kadai1-2\n",
    "def f(x):\n",
    "    return 0.7 * np.abs((x-3)**2 -3)\n",
    "\n",
    "\n",
    "X_train=np.arange(-10,10,0.01,dtype=np.float32)\n",
    "Y_train= f(X_train)\n",
    "# X_train, Y_trainは１次元配列なので，reshapeで ２次元の(n,dim)に変換します．dim=1です．\n",
    "X_train=np.reshape(X_train,[-1,1])   # (2000,)  -> (2000,1)\n",
    "Y_train=np.reshape(Y_train,[-1,1]) \n",
    "num_train=np.size(X_train)\n",
    "\n",
    "# テスト用の x も準備します．\n",
    "X_val=np.arange(-8,8,0.1,dtype=np.float32)\n",
    "Y_val= f(X_val)\n",
    "X_val=np.reshape(X_val,[-1,1])\n",
    "Y_val=np.reshape(Y_val,[-1,1])\n",
    "num_val=np.size(X_val)"
   ]
  },
  {
   "cell_type": "code",
   "execution_count": 5,
   "metadata": {},
   "outputs": [
    {
     "name": "stdout",
     "output_type": "stream",
     "text": [
      "loss_val: [[ 1690.75600703]]\n"
     ]
    },
    {
     "data": {
      "image/png": "[encoded data removed]",
      "text/plain": [
       "<matplotlib.figure.Figure at 0x7f4ea804bc50>"
      ]
     },
     "metadata": {},
     "output_type": "display_data"
    }
   ],
   "source": [
    "%matplotlib inline\n",
    "import matplotlib.pyplot as plt\n",
    "from IPython import display\n",
    "\n",
    "x0=np.reshape(X_val,[-1])\n",
    "\n",
    "lr=0.001 #学習率\n",
    "num_epoch=150 # エポック数\n",
    "num_batch=100 # mini-batch サイズ\n",
    "#plt.hold(False)\n",
    "losses=np.array([])\n",
    "losses_val=np.array([])\n",
    "ep=np.array([])\n",
    "# 表示エリアの設定\n",
    "fig=plt.figure()\n",
    "fig1 = fig.add_subplot(121)\n",
    "fig2 = fig.add_subplot(122)\n",
    "for epoch in range(num_epoch):\n",
    "# Stochastic Gradient Descent なので，epochごとに学習データをシャッフルします．\n",
    "    shuffler = np.random.permutation(num_train)\n",
    "    X_train=X_train[shuffler]\n",
    "    Y_train=Y_train[shuffler]\n",
    "    for n in range(0, num_train, num_batch):\n",
    "        loss=0\n",
    "        for i in range(num_batch):\n",
    "          # 順伝搬計算\n",
    "          y=fc3(fc2(fc1(np.c_[X_train[n+i]])))\n",
    "          # 誤差微分値，誤差値を計算します． \n",
    "          dEdx=y-np.c_[Y_train[n+i]]\n",
    "          loss+=(dEdx**2)*0.5\n",
    "          # dEdx (δ)を計算して，逆伝搬します．\n",
    "          dEdx=fc3.backward(dEdx)\n",
    "          dEdx=fc2.backward(dEdx)\n",
    "          dEdx=fc1.backward(dEdx)\n",
    "        # minibatch の順伝搬，逆伝搬を行ったら，SDGで重みを更新\n",
    "        fc1.update(lr)\n",
    "        fc2.update(lr)\n",
    "        fc3.update(lr)\n",
    "        # 各epochの最初にグラフ表示を行います．\n",
    "        if n==0:\n",
    "          #print \"[%d %d] loss: %f\" % (epoch,n,loss/num_batch)\n",
    "          losses=np.append(losses,loss/num_batch)\n",
    "          ep=np.append(ep,epoch)\n",
    "          # 検証用データの評価\n",
    "          loss_val=0\n",
    "          Y_pred=np.array([])\n",
    "          for i in range(num_val):\n",
    "           # 順伝搬計算\n",
    "            y=fc3(fc2(fc1(np.c_[X_val[i]])))\n",
    "            Y_pred=np.append(Y_pred,y)\n",
    "           # 誤差微分値，誤差値 \n",
    "            dEdx=y-np.c_[Y_val[i]]\n",
    "            loss_val+=(dEdx**2)*0.5    \n",
    "            # print y, Y_val[i], (dEdx**2)*0.5\n",
    "          losses_val=np.append(losses_val, loss_val/num_val)\n",
    "        \n",
    "          display.clear_output(wait = True)\n",
    "          fig1.axis([0, num_epoch, 0, 50])\n",
    "          fig1.plot(ep,losses,\"b\")\n",
    "          fig1.plot(ep,losses_val,\"r\")\n",
    "          fig2.axis([-10,10,-20,40])\n",
    "          y0=np.reshape(Y_pred,[-1])\n",
    "          fig2.plot(x0,y0,\"b\")\n",
    "          fig2.plot(x0,f(x0),\"r\")\n",
    "          display.display(fig)\n",
    "          if epoch<num_epoch-1:\n",
    "            fig2.cla()\n",
    "display.clear_output(wait = True)\n",
    "print \"loss_val:\",loss_val"
   ]
  },
  {
   "cell_type": "markdown",
   "metadata": {},
   "source": [
    "課題1-1：順伝播は、入力ベクトルxに重みのwを掛け、バイアスbを加える。さらにその全体に活性化関数δを掛け合わせて出力する。\n",
    "逆伝播は、dE/dyを受けとって、dE/dxを出力する。この時、dE/dw,dE/dbを更新する。"
   ]
  },
  {
   "cell_type": "markdown",
   "metadata": {},
   "source": [
    "課題1-2：関数はf（x）= 0.7 * np.abs((x-3)**2 -3)として実行した。"
   ]
  },
  {
   "cell_type": "code",
   "execution_count": null,
   "metadata": {},
   "outputs": [],
   "source": []
  }
 ],
 "metadata": {
  "kernelspec": {
   "display_name": "Python 2",
   "language": "python",
   "name": "python2"
  },
  "language_info": {
   "codemirror_mode": {
    "name": "ipython",
    "version": 2
   },
   "file_extension": ".py",
   "mimetype": "text/x-python",
   "name": "python",
   "nbconvert_exporter": "python",
   "pygments_lexer": "ipython2",
   "version": "2.7.6"
  }
 },
 "nbformat": 4,
 "nbformat_minor": 2
}
